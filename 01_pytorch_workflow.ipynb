{
  "nbformat": 4,
  "nbformat_minor": 0,
  "metadata": {
    "colab": {
      "provenance": [],
      "toc_visible": true,
      "authorship_tag": "ABX9TyM1gZ2EBoe0UyHSnxPs9snt",
      "include_colab_link": true
    },
    "kernelspec": {
      "name": "python3",
      "display_name": "Python 3"
    },
    "language_info": {
      "name": "python"
    }
  },
  "cells": [
    {
      "cell_type": "markdown",
      "metadata": {
        "id": "view-in-github",
        "colab_type": "text"
      },
      "source": [
        "<a href=\"https://colab.research.google.com/github/ShannonH98/PyTorchUdemyCourse/blob/main/01_pytorch_workflow.ipynb\" target=\"_parent\"><img src=\"https://colab.research.google.com/assets/colab-badge.svg\" alt=\"Open In Colab\"/></a>"
      ]
    },
    {
      "cell_type": "code",
      "execution_count": 142,
      "metadata": {
        "id": "xgHHAVnaQ8oI"
      },
      "outputs": [],
      "source": []
    },
    {
      "cell_type": "markdown",
      "source": [
        "# Python Workflow"
      ],
      "metadata": {
        "id": "i9gMLu7NVIws"
      }
    },
    {
      "cell_type": "code",
      "source": [
        "what_we_are_covering = {\n",
        "1: \"Data (prepare and upload)\",\n",
        "2: \"Building the model\",\n",
        "3: \"Fitting the model to data (training)\",\n",
        "4: \"Making predictions and evaluating a model (inference)\",\n",
        "5: \"Saving and loading a model\",\n",
        "6: \"Putting it all together\"\n",
        "}\n",
        "\n",
        "what_we_are_covering"
      ],
      "metadata": {
        "colab": {
          "base_uri": "https://localhost:8080/"
        },
        "id": "wV5F7i2xYdSD",
        "outputId": "0bc24b11-ce13-41f4-eae8-c309bcc6479e"
      },
      "execution_count": 143,
      "outputs": [
        {
          "output_type": "execute_result",
          "data": {
            "text/plain": [
              "{1: 'Data (prepare and upload)',\n",
              " 2: 'Building the model',\n",
              " 3: 'Fitting the model to data (training)',\n",
              " 4: 'Making predictions and evaluating a model (inference)',\n",
              " 5: 'Saving and loading a model',\n",
              " 6: 'Putting it all together'}"
            ]
          },
          "metadata": {},
          "execution_count": 143
        }
      ]
    },
    {
      "cell_type": "code",
      "source": [
        "import torch\n",
        "import torch.nn as nn\n",
        "import matplotlib.pyplot as plt\n",
        "\n",
        "torch.__version__\n"
      ],
      "metadata": {
        "colab": {
          "base_uri": "https://localhost:8080/",
          "height": 35
        },
        "id": "Q6bNUSucXfQu",
        "outputId": "d96ff81c-137c-4f05-cf5c-294c0eb174c0"
      },
      "execution_count": 144,
      "outputs": [
        {
          "output_type": "execute_result",
          "data": {
            "text/plain": [
              "'2.8.0+cu126'"
            ],
            "application/vnd.google.colaboratory.intrinsic+json": {
              "type": "string"
            }
          },
          "metadata": {},
          "execution_count": 144
        }
      ]
    },
    {
      "cell_type": "markdown",
      "source": [
        "Preparing Data\n",
        "\n",
        "it could be:\n",
        "*   Youtube vidoes\n",
        "*   Images\n",
        "*   Audio files\n",
        "*   DNA\n",
        "*   Excel sheets\n",
        "*   Text blocks\n",
        "\n",
        "Machine learning is a game of two parts:\n",
        "\n",
        "1. Get data into numerical represenation\n",
        "2. Build a model to learn patterns in that numerical representation\n",
        "\n",
        "To showcase this we will use a linear regression formula with known parameters\n"
      ],
      "metadata": {
        "id": "2sNvwz1eZod_"
      }
    },
    {
      "cell_type": "code",
      "source": [
        "#Create known parameters\n",
        "weight = 0.7\n",
        "bias = 0.3\n",
        "\n",
        "#Create\n",
        "start = 0\n",
        "end = 1\n",
        "step = 0.02\n",
        "X = torch.arange(start, end, step).unsqueeze(dim=1)\n",
        "y = weight * X + bias\n",
        "\n",
        "X[:10], y[:10]\n"
      ],
      "metadata": {
        "colab": {
          "base_uri": "https://localhost:8080/"
        },
        "id": "LPJAM4BYY5KR",
        "outputId": "2b7b1229-4f1c-4290-c988-c20d339ab5fc"
      },
      "execution_count": 145,
      "outputs": [
        {
          "output_type": "execute_result",
          "data": {
            "text/plain": [
              "(tensor([[0.0000],\n",
              "         [0.0200],\n",
              "         [0.0400],\n",
              "         [0.0600],\n",
              "         [0.0800],\n",
              "         [0.1000],\n",
              "         [0.1200],\n",
              "         [0.1400],\n",
              "         [0.1600],\n",
              "         [0.1800]]),\n",
              " tensor([[0.3000],\n",
              "         [0.3140],\n",
              "         [0.3280],\n",
              "         [0.3420],\n",
              "         [0.3560],\n",
              "         [0.3700],\n",
              "         [0.3840],\n",
              "         [0.3980],\n",
              "         [0.4120],\n",
              "         [0.4260]]))"
            ]
          },
          "metadata": {},
          "execution_count": 145
        }
      ]
    },
    {
      "cell_type": "code",
      "source": [
        "len(X), len(y)\n"
      ],
      "metadata": {
        "colab": {
          "base_uri": "https://localhost:8080/"
        },
        "id": "09hyU1twZx3h",
        "outputId": "e11a0560-5a47-421b-9be0-70c469a955b9"
      },
      "execution_count": 146,
      "outputs": [
        {
          "output_type": "execute_result",
          "data": {
            "text/plain": [
              "(50, 50)"
            ]
          },
          "metadata": {},
          "execution_count": 146
        }
      ]
    },
    {
      "cell_type": "code",
      "source": [
        "#Spliting data into training at test sets\n",
        "#This is very important\n",
        "\n",
        "#Create a train/set split\n",
        "\n",
        "train_split = int(0.8 * len(X)) #Calculates how much of the dataset X to use for training. In this case 80%\n",
        "X_train, y_train = X[:train_split], y[:train_split] #means take the first 80% of total samples\n",
        "X_test, y_test = X[train_split:], y[train_split:] #Takes the remaining 20% of data for testing\n",
        "\n",
        "train_split\n",
        "X_train, y_train\n",
        "len(X_train), len(y_train), len(X_test), len(y_test)"
      ],
      "metadata": {
        "colab": {
          "base_uri": "https://localhost:8080/"
        },
        "id": "EAL8HMsAf3T6",
        "outputId": "db4a6ad1-50e1-424f-8be6-4a8c5375a359"
      },
      "execution_count": 147,
      "outputs": [
        {
          "output_type": "execute_result",
          "data": {
            "text/plain": [
              "(40, 40, 10, 10)"
            ]
          },
          "metadata": {},
          "execution_count": 147
        }
      ]
    },
    {
      "cell_type": "code",
      "source": [
        "#Visualizing the data\n",
        "\n",
        "def plot_predictions(train_data=X_train,\n",
        "                     train_labels=y_train,\n",
        "                     test_data=X_test,\n",
        "                     test_labels=y_test,\n",
        "                     predictions=None):\n",
        "  \"\"\"\n",
        "  Plots training data, test data and compares predictions\n",
        "  \"\"\"\n",
        "  plt.figure(figsize=(10,7))\n",
        "\n",
        " #Plot training data in magenta\n",
        "  plt.scatter(train_data, train_labels, c=\"m\", s=4, label=\"Training data\")\n",
        "\n",
        " #Plot testing in cyan\n",
        "  plt.scatter(test_data, test_labels, c=\"c\", s=4, label=\"Testing data\")\n",
        "\n",
        "  if predictions is not None:\n",
        "    # Plot the predictions in red (predictions were made on the test data)\n",
        "    plt.scatter(test_data, predictions, c=\"k\", s=4, label=\"Predictions\")\n",
        "\n",
        "  #Show legend\n",
        "  plt.legend(prop={\"size\": 14});\n",
        "\n"
      ],
      "metadata": {
        "id": "i5-Qgh6ZlQEO"
      },
      "execution_count": 148,
      "outputs": []
    },
    {
      "cell_type": "code",
      "source": [
        "\n",
        "plot_predictions();"
      ],
      "metadata": {
        "id": "MHH41NBxoRih",
        "colab": {
          "base_uri": "https://localhost:8080/",
          "height": 599
        },
        "outputId": "de53d602-af49-4bed-80a0-d7b3216fe959"
      },
      "execution_count": 149,
      "outputs": [
        {
          "output_type": "display_data",
          "data": {
            "text/plain": [
              "<Figure size 1000x700 with 1 Axes>"
            ],
            "image/png": "[encoded data removed]"
          },
          "metadata": {}
        }
      ]
    },
    {
      "cell_type": "code",
      "source": [
        "#Building a model\n",
        "import torch\n",
        "from torch import nn\n",
        "#Create a linear regression model class\n",
        "\n",
        "class LinearRegressionModel(nn.Module): #<- almost everything in Pytorch inherits from nn.Module\n",
        "  def __init__(self):\n",
        "    super().__init__()\n",
        "    self.weights = nn.Parameter(torch.randn(1,\n",
        "                                          requires_grad=True,\n",
        "                                          dtype=torch.float\n",
        "                                          ))\n",
        "    self.bias = nn.Parameter(torch.randn(1,\n",
        "                                       requires_grad=True,\n",
        "                                       dtype=torch.float\n",
        "                                       ))\n",
        "  #Forward method to define the computation in the model\n",
        "  def forward(self, x: torch.Tensor) -> torch.Tensor: # <- \"x\" is the input data (e.g. training/testing features)\n",
        "        return self.weights * x + self.bias # <- this is the linear regression formula (y = m*x + b)"
      ],
      "metadata": {
        "id": "I-1H_tu5p0Hd"
      },
      "execution_count": 150,
      "outputs": []
    },
    {
      "cell_type": "markdown",
      "source": [],
      "metadata": {
        "id": "nfAjUV5xYYCT"
      }
    },
    {
      "cell_type": "code",
      "source": [
        "import torch\n",
        "###Cheking the content of our Pytorch Model\n",
        "\n",
        "###Random seed (so we get the same value)\n",
        "\n",
        "\n",
        "torch.manual_seed(42)\n",
        "\n",
        "model_0 = LinearRegressionModel()#Instance of the model. Subclass of nn.Module\n",
        "\n",
        "#Check out the parameters\n",
        "list(model_0.parameters())\n",
        "\n"
      ],
      "metadata": {
        "id": "8wkeRnGfaORF",
        "colab": {
          "base_uri": "https://localhost:8080/"
        },
        "outputId": "1922b678-dc03-4f5c-940d-307099f246ec"
      },
      "execution_count": 151,
      "outputs": [
        {
          "output_type": "execute_result",
          "data": {
            "text/plain": [
              "[Parameter containing:\n",
              " tensor([0.3367], requires_grad=True),\n",
              " Parameter containing:\n",
              " tensor([0.1288], requires_grad=True)]"
            ]
          },
          "metadata": {},
          "execution_count": 151
        }
      ]
    },
    {
      "cell_type": "code",
      "source": [
        "model_0.state_dict()"
      ],
      "metadata": {
        "id": "aX4673D7aD9s",
        "colab": {
          "base_uri": "https://localhost:8080/"
        },
        "outputId": "7f8dc50f-d9eb-43c8-ee02-f4c987c3c6b5"
      },
      "execution_count": 152,
      "outputs": [
        {
          "output_type": "execute_result",
          "data": {
            "text/plain": [
              "OrderedDict([('weights', tensor([0.3367])), ('bias', tensor([0.1288]))])"
            ]
          },
          "metadata": {},
          "execution_count": 152
        }
      ]
    },
    {
      "cell_type": "code",
      "source": [
        "\n",
        "X_test, y_test"
      ],
      "metadata": {
        "id": "rUzz3L_Npftj",
        "colab": {
          "base_uri": "https://localhost:8080/"
        },
        "outputId": "d2ec3c04-752a-46c3-a429-afc190f54718"
      },
      "execution_count": 153,
      "outputs": [
        {
          "output_type": "execute_result",
          "data": {
            "text/plain": [
              "(tensor([[0.8000],\n",
              "         [0.8200],\n",
              "         [0.8400],\n",
              "         [0.8600],\n",
              "         [0.8800],\n",
              "         [0.9000],\n",
              "         [0.9200],\n",
              "         [0.9400],\n",
              "         [0.9600],\n",
              "         [0.9800]]),\n",
              " tensor([[0.8600],\n",
              "         [0.8740],\n",
              "         [0.8880],\n",
              "         [0.9020],\n",
              "         [0.9160],\n",
              "         [0.9300],\n",
              "         [0.9440],\n",
              "         [0.9580],\n",
              "         [0.9720],\n",
              "         [0.9860]]))"
            ]
          },
          "metadata": {},
          "execution_count": 153
        }
      ]
    },
    {
      "cell_type": "code",
      "source": [
        "#Make predictions with model\n",
        "\n",
        "with torch.inference_mode(): #Turns of gradients tracking, moves faster and keeps track of less data. When training we dont need to keey track of gradient\n",
        "  y_preds = model_0(X_test)\n",
        "\n",
        "y_preds"
      ],
      "metadata": {
        "id": "mf8fbBsEqJ_S",
        "colab": {
          "base_uri": "https://localhost:8080/"
        },
        "outputId": "0c9a4e59-e92c-435c-df3f-b66f6a771db4"
      },
      "execution_count": 154,
      "outputs": [
        {
          "output_type": "execute_result",
          "data": {
            "text/plain": [
              "tensor([[0.3982],\n",
              "        [0.4049],\n",
              "        [0.4116],\n",
              "        [0.4184],\n",
              "        [0.4251],\n",
              "        [0.4318],\n",
              "        [0.4386],\n",
              "        [0.4453],\n",
              "        [0.4520],\n",
              "        [0.4588]])"
            ]
          },
          "metadata": {},
          "execution_count": 154
        }
      ]
    },
    {
      "cell_type": "code",
      "source": [
        "plot_predictions(predictions=y_preds)"
      ],
      "metadata": {
        "id": "Ft1JUEPArDk0",
        "colab": {
          "base_uri": "https://localhost:8080/",
          "height": 599
        },
        "outputId": "a2ccb05b-4736-4b8c-f556-f4412bfaffd4"
      },
      "execution_count": 155,
      "outputs": [
        {
          "output_type": "display_data",
          "data": {
            "text/plain": [
              "<Figure size 1000x700 with 1 Axes>"
            ],
            "image/png": "[encoded data removed]"
          },
          "metadata": {}
        }
      ]
    },
    {
      "cell_type": "markdown",
      "source": [
        "Train the Model\n",
        "\n"
      ],
      "metadata": {
        "id": "Q3ghWamiKV2U"
      }
    },
    {
      "cell_type": "code",
      "source": [
        "model_0.state_dict()"
      ],
      "metadata": {
        "id": "1-B5ybLWMZlU",
        "colab": {
          "base_uri": "https://localhost:8080/"
        },
        "outputId": "9a8fb4c9-3396-477c-85a5-e79e82b0a55e"
      },
      "execution_count": 156,
      "outputs": [
        {
          "output_type": "execute_result",
          "data": {
            "text/plain": [
              "OrderedDict([('weights', tensor([0.3367])), ('bias', tensor([0.1288]))])"
            ]
          },
          "metadata": {},
          "execution_count": 156
        }
      ]
    },
    {
      "cell_type": "code",
      "source": [
        "#Setup a loss function\n",
        "#A loss function (also called cost function or objective function) is a\n",
        "#mathematical function that measures how well or badly a model’s predictions match the actual target values.\n",
        "loss_fn = nn.L1Loss() #PyTorch built in function\n",
        "\n",
        "#Setup an optimizer (stochastic gradient descent) #it adjust the parameters to reduce the loss\n",
        "optimizer = torch.optim.SGD(params = model_0.parameters(),\n",
        "                            lr=0.01) #learning rate (smaller the lr the smaller the change in the parameter, and same for opposite)"
      ],
      "metadata": {
        "id": "7UtvSPdUTbTS"
      },
      "execution_count": 157,
      "outputs": []
    },
    {
      "cell_type": "code",
      "source": [
        "loss_fn"
      ],
      "metadata": {
        "id": "ZaWeQoDGTvdT",
        "colab": {
          "base_uri": "https://localhost:8080/"
        },
        "outputId": "8415d69f-ea66-43da-95c3-0154a8de57fc"
      },
      "execution_count": 158,
      "outputs": [
        {
          "output_type": "execute_result",
          "data": {
            "text/plain": [
              "L1Loss()"
            ]
          },
          "metadata": {},
          "execution_count": 158
        }
      ]
    },
    {
      "cell_type": "code",
      "source": [
        "optimizer"
      ],
      "metadata": {
        "id": "o6bHgzEgUp06",
        "colab": {
          "base_uri": "https://localhost:8080/"
        },
        "outputId": "f3cd58cb-226d-4adc-e28c-66fbae68460c"
      },
      "execution_count": 159,
      "outputs": [
        {
          "output_type": "execute_result",
          "data": {
            "text/plain": [
              "SGD (\n",
              "Parameter Group 0\n",
              "    dampening: 0\n",
              "    differentiable: False\n",
              "    foreach: None\n",
              "    fused: None\n",
              "    lr: 0.01\n",
              "    maximize: False\n",
              "    momentum: 0\n",
              "    nesterov: False\n",
              "    weight_decay: 0\n",
              ")"
            ]
          },
          "metadata": {},
          "execution_count": 159
        }
      ]
    },
    {
      "cell_type": "code",
      "source": [
        "#Build a training loop (and testing loop) in PyTorch"
      ],
      "metadata": {
        "id": "Z-imzQLZVvYV"
      },
      "execution_count": 160,
      "outputs": []
    },
    {
      "cell_type": "markdown",
      "source": [
        "0. Step 0 - Loop through the data\n",
        "1. Step 1 - Forward pass - moving data through the model to make prefictions (foward propogation)\n",
        "2. Step 2 - Calculate the loss (compare forward pass with base values)\n",
        "3. Step 3 - Optimizer zero grad\n",
        "4. Step 4 - Loss backward\n",
        "5. Step 5 - Optimizer step"
      ],
      "metadata": {
        "id": "vpTlsh_mWOev"
      }
    },
    {
      "cell_type": "code",
      "source": [
        "torch.manual_seed(42)\n",
        "\n",
        "# Set the number of epochs (how many times the model will pass over the training data)\n",
        "epochs = 150\n",
        "\n",
        "# Create empty loss lists to track values\n",
        "train_loss_values = []\n",
        "test_loss_values = []\n",
        "epoch_count = []\n",
        "\n",
        "for epoch in range(epochs):\n",
        "    ### Training\n",
        "\n",
        "    # Put model in training mode (this is the default state of a model)\n",
        "    model_0.train()\n",
        "\n",
        "    # 1. Forward pass on train data using the forward() method inside\n",
        "    y_pred = model_0(X_train)\n",
        "    # print(y_pred)\n",
        "\n",
        "    # 2. Calculate the loss (how different are our models predictions to the ground truth)\n",
        "    loss = loss_fn(y_pred, y_train)\n",
        "\n",
        "    # 3. Zero grad of the optimizer\n",
        "    optimizer.zero_grad()\n",
        "\n",
        "    # 4. Loss backwards\n",
        "    loss.backward()\n",
        "\n",
        "    # 5. Progress the optimizer\n",
        "    optimizer.step() #to make i start fresh after each loop\n",
        "\n",
        "    ### Testing\n",
        "\n",
        "    # Put the model in evaluation mode\n",
        "    model_0.eval()\n",
        "\n",
        "    with torch.inference_mode():\n",
        "      # 1. Forward pass on test data\n",
        "      test_pred = model_0(X_test)\n",
        "\n",
        "      # 2. Caculate loss on test data\n",
        "      test_loss = loss_fn(test_pred, y_test.type(torch.float)) # predictions come in torch.float datatype, so comparisons need to be done with tensors of the same type\n",
        "\n",
        "      # Print out what's happening\n",
        "      if epoch % 10 == 0:\n",
        "            epoch_count.append(epoch)\n",
        "            train_loss_values.append(loss.detach().numpy())\n",
        "            test_loss_values.append(test_loss.detach().numpy())\n",
        "            print(f\"Epoch: {epoch} | MAE Train Loss: {loss} | MAE Test Loss: {test_loss} \")"
      ],
      "metadata": {
        "id": "eY7uHlEHXfkQ",
        "colab": {
          "base_uri": "https://localhost:8080/"
        },
        "outputId": "404b8c60-89af-45d5-f884-3d49e65f10ad"
      },
      "execution_count": 161,
      "outputs": [
        {
          "output_type": "stream",
          "name": "stdout",
          "text": [
            "Epoch: 0 | MAE Train Loss: 0.31288138031959534 | MAE Test Loss: 0.48106518387794495 \n",
            "Epoch: 10 | MAE Train Loss: 0.1976713240146637 | MAE Test Loss: 0.3463551998138428 \n",
            "Epoch: 20 | MAE Train Loss: 0.08908725529909134 | MAE Test Loss: 0.21729660034179688 \n",
            "Epoch: 30 | MAE Train Loss: 0.053148526698350906 | MAE Test Loss: 0.14464017748832703 \n",
            "Epoch: 40 | MAE Train Loss: 0.04543796554207802 | MAE Test Loss: 0.11360953003168106 \n",
            "Epoch: 50 | MAE Train Loss: 0.04167863354086876 | MAE Test Loss: 0.09919948130846024 \n",
            "Epoch: 60 | MAE Train Loss: 0.03818932920694351 | MAE Test Loss: 0.08886633068323135 \n",
            "Epoch: 70 | MAE Train Loss: 0.03476089984178543 | MAE Test Loss: 0.0805937647819519 \n",
            "Epoch: 80 | MAE Train Loss: 0.03132382780313492 | MAE Test Loss: 0.07232122868299484 \n",
            "Epoch: 90 | MAE Train Loss: 0.02788739837706089 | MAE Test Loss: 0.06473556160926819 \n",
            "Epoch: 100 | MAE Train Loss: 0.024458957836031914 | MAE Test Loss: 0.05646304413676262 \n",
            "Epoch: 110 | MAE Train Loss: 0.021020207554101944 | MAE Test Loss: 0.04819049686193466 \n",
            "Epoch: 120 | MAE Train Loss: 0.01758546568453312 | MAE Test Loss: 0.04060482233762741 \n",
            "Epoch: 130 | MAE Train Loss: 0.014155393466353416 | MAE Test Loss: 0.03233227878808975 \n",
            "Epoch: 140 | MAE Train Loss: 0.010716589167714119 | MAE Test Loss: 0.024059748277068138 \n"
          ]
        }
      ]
    },
    {
      "cell_type": "code",
      "source": [
        "model_0.state_dict()"
      ],
      "metadata": {
        "id": "Ue9E3WGpILdW",
        "colab": {
          "base_uri": "https://localhost:8080/"
        },
        "outputId": "0fc0732c-02b0-496a-9bbf-143767923142"
      },
      "execution_count": 162,
      "outputs": [
        {
          "output_type": "execute_result",
          "data": {
            "text/plain": [
              "OrderedDict([('weights', tensor([0.6638])), ('bias', tensor([0.3153]))])"
            ]
          },
          "metadata": {},
          "execution_count": 162
        }
      ]
    },
    {
      "cell_type": "code",
      "source": [
        "weight, bias"
      ],
      "metadata": {
        "id": "jyJqU3DMFn0m",
        "colab": {
          "base_uri": "https://localhost:8080/"
        },
        "outputId": "5495b111-9830-4611-d319-0245fa474a4d"
      },
      "execution_count": 163,
      "outputs": [
        {
          "output_type": "execute_result",
          "data": {
            "text/plain": [
              "(0.7, 0.3)"
            ]
          },
          "metadata": {},
          "execution_count": 163
        }
      ]
    },
    {
      "cell_type": "markdown",
      "source": [
        "https://www.udemy.com/course/pytorch-for-deep-learning/learn/lecture/32719890#content\n",
        "\n",
        "a lot of theory here\n"
      ],
      "metadata": {
        "id": "E2oLZlsCFkgp"
      }
    },
    {
      "cell_type": "markdown",
      "source": [
        "https://www.udemy.com/course/pytorch-for-deep-learning/learn/lecture/32719894#questions/18789092\n",
        "\n",
        "also important data"
      ],
      "metadata": {
        "id": "pStqCVv9gUmA"
      }
    },
    {
      "cell_type": "code",
      "source": [
        "with torch.inference_mode():\n",
        "  y_preds_new = model_0(X_test)\n"
      ],
      "metadata": {
        "id": "cKTrBw7pjTWU"
      },
      "execution_count": 164,
      "outputs": []
    },
    {
      "cell_type": "code",
      "source": [
        "plot_predictions(predictions=y_preds)"
      ],
      "metadata": {
        "id": "pUmeYMGTi-Y-",
        "colab": {
          "base_uri": "https://localhost:8080/",
          "height": 599
        },
        "outputId": "d1a3926b-cf82-433f-b825-1eed59c917ac"
      },
      "execution_count": 165,
      "outputs": [
        {
          "output_type": "display_data",
          "data": {
            "text/plain": [
              "<Figure size 1000x700 with 1 Axes>"
            ],
            "image/png": "[encoded data removed]"
          },
          "metadata": {}
        }
      ]
    },
    {
      "cell_type": "code",
      "source": [
        "plot_predictions(predictions=y_preds_new)"
      ],
      "metadata": {
        "id": "KbXUIafcjD0g",
        "colab": {
          "base_uri": "https://localhost:8080/",
          "height": 599
        },
        "outputId": "efb6f179-5f3b-4cd8-95d5-1b451e8ddc1f"
      },
      "execution_count": 166,
      "outputs": [
        {
          "output_type": "display_data",
          "data": {
            "text/plain": [
              "<Figure size 1000x700 with 1 Axes>"
            ],
            "image/png": "[encoded data removed]"
          },
          "metadata": {}
        }
      ]
    },
    {
      "cell_type": "code",
      "source": [
        "# Plot the loss curves\n",
        "plt.plot(epoch_count, train_loss_values, label=\"Train loss\")\n",
        "plt.plot(epoch_count, test_loss_values, label=\"Test loss\")\n",
        "plt.title(\"Training and Test Loss Curves\")\n",
        "plt.ylabel(\"Loss\")\n",
        "plt.xlabel(\"Epochs\")\n",
        "plt.legend();"
      ],
      "metadata": {
        "id": "rlBRSkYnz7Ai",
        "colab": {
          "base_uri": "https://localhost:8080/",
          "height": 472
        },
        "outputId": "4204a352-ba40-437a-dd49-321f8a4ee02f"
      },
      "execution_count": 167,
      "outputs": [
        {
          "output_type": "display_data",
          "data": {
            "text/plain": [
              "<Figure size 640x480 with 1 Axes>"
            ],
            "image/png": "[encoded data removed]"
          },
          "metadata": {}
        }
      ]
    },
    {
      "cell_type": "markdown",
      "source": [
        "https://www.udemy.com/course/pytorch-for-deep-learning/learn/lecture/32723800#questions/21173912\n",
        "\n",
        "here too"
      ],
      "metadata": {
        "id": "Pj91PqSG87FF"
      }
    },
    {
      "cell_type": "markdown",
      "source": [
        "Saving models\n",
        "\n",
        "3 main ways to save and load\n",
        "\n",
        "1. torch.save() - allows you to save Pytorch object in Python's pickle format\n",
        "\n",
        "2. torch.load() - allows you to load a saved PyTorch object\n",
        "\n",
        "3. torch.nn.Module.load_state_dict() - this allows you to load a model's saved state ditionary"
      ],
      "metadata": {
        "id": "Zx2U7qcN_tjx"
      }
    },
    {
      "cell_type": "code",
      "source": [
        "#Saving our PyTorch Model\n",
        "#Save/Load state_dict (Recommended)\n",
        "from pathlib import Path\n",
        "\n",
        "#1. Create model directory\n",
        "MODEL_PATH = Path(\"models\")\n",
        "MODEL_PATH.mkdir(parents=True, exist_ok=True)\n",
        "\n",
        "#2. Create Model save path\n",
        "MODEL_NAME = \"01_pytorch_workflow_model.pth\"\n",
        "MODEL_SAVE_PATH = MODEL_PATH / MODEL_NAME\n",
        "\n",
        "#3. Save the model state dict - saving state dict is recommeneded\n",
        "print(f\"Saving model to: {MODEL_SAVE_PATH}\")\n",
        "torch.save(obj=model_0.state_dict(),\n",
        "           f=MODEL_SAVE_PATH)\n"
      ],
      "metadata": {
        "id": "rK3YR4bTYm0j",
        "colab": {
          "base_uri": "https://localhost:8080/"
        },
        "outputId": "01edfb0e-59ca-4ed7-c54a-a348ea9eba8c"
      },
      "execution_count": 168,
      "outputs": [
        {
          "output_type": "stream",
          "name": "stdout",
          "text": [
            "Saving model to: models/01_pytorch_workflow_model.pth\n"
          ]
        }
      ]
    },
    {
      "cell_type": "code",
      "source": [
        "!ls -l models"
      ],
      "metadata": {
        "id": "fGJNjT_saZyZ",
        "colab": {
          "base_uri": "https://localhost:8080/"
        },
        "outputId": "9d664379-62ee-48ed-8c95-5ff91a23fa42"
      },
      "execution_count": 169,
      "outputs": [
        {
          "output_type": "stream",
          "name": "stdout",
          "text": [
            "total 12\n",
            "-rw-r--r-- 1 root root 1965 Aug 30 01:21 01_pytorch_model\n",
            "-rw-r--r-- 1 root root 2181 Aug 30 01:15 01_pytorch_workflow_model_1.pth\n",
            "-rw-r--r-- 1 root root 2101 Aug 30 01:21 01_pytorch_workflow_model.pth\n"
          ]
        }
      ]
    },
    {
      "cell_type": "markdown",
      "source": [],
      "metadata": {
        "id": "k7Tx7G3Vcw6v"
      }
    },
    {
      "cell_type": "code",
      "source": [
        "#Make some model preds\n",
        "\n",
        "model_0.eval()\n",
        "with torch.inference_mode():\n",
        "  y_preds = model_0(X_test)\n",
        "\n",
        "y_preds"
      ],
      "metadata": {
        "id": "7pET8BtwemSy",
        "colab": {
          "base_uri": "https://localhost:8080/"
        },
        "outputId": "3259d8eb-c6c9-4b98-f23b-944411881be8"
      },
      "execution_count": 170,
      "outputs": [
        {
          "output_type": "execute_result",
          "data": {
            "text/plain": [
              "tensor([[0.8464],\n",
              "        [0.8596],\n",
              "        [0.8729],\n",
              "        [0.8862],\n",
              "        [0.8995],\n",
              "        [0.9127],\n",
              "        [0.9260],\n",
              "        [0.9393],\n",
              "        [0.9526],\n",
              "        [0.9659]])"
            ]
          },
          "metadata": {},
          "execution_count": 170
        }
      ]
    },
    {
      "cell_type": "code",
      "source": [
        "# Instantiate a new instance of our model (this will be instantiated with random weights)\n",
        "loaded_model_0 = LinearRegressionModel()\n",
        "\n",
        "# Load the state_dict of our saved model (this will update the new instance of our model with trained weights)\n",
        "loaded_model_0.load_state_dict(torch.load(f=MODEL_SAVE_PATH))\n",
        "\n",
        "# 1. Put the loaded model into evaluation mode\n",
        "loaded_model_0.eval()\n",
        "\n",
        "# 2. Use the inference mode context manager to make predictions\n",
        "with torch.inference_mode():\n",
        "    loaded_model_preds = loaded_model_0(X_test) # perform a forward pass on the test data with the loaded model\n",
        "\n",
        "    # Compare previous model predictions with loaded model predictions (these should be the same)\n",
        "y_preds == loaded_model_preds"
      ],
      "metadata": {
        "id": "nlKKqDG_ajR2",
        "colab": {
          "base_uri": "https://localhost:8080/"
        },
        "outputId": "0fc553e1-633b-4e28-da27-350a0761eb31"
      },
      "execution_count": 171,
      "outputs": [
        {
          "output_type": "execute_result",
          "data": {
            "text/plain": [
              "tensor([[True],\n",
              "        [True],\n",
              "        [True],\n",
              "        [True],\n",
              "        [True],\n",
              "        [True],\n",
              "        [True],\n",
              "        [True],\n",
              "        [True],\n",
              "        [True]])"
            ]
          },
          "metadata": {},
          "execution_count": 171
        }
      ]
    },
    {
      "cell_type": "markdown",
      "source": [
        "# Putting it all togather"
      ],
      "metadata": {
        "id": "As0jp498Obgt"
      }
    },
    {
      "cell_type": "code",
      "source": [
        "#Impor PyTorch and matplotlib\n",
        "import torch\n",
        "from torch import nn\n",
        "import matplotlib.pyplot as plt\n",
        "\n",
        "#Check current version of PyTorch\n",
        "torch.__version__\n",
        "#current version: '2.8.0+cu126'"
      ],
      "metadata": {
        "colab": {
          "base_uri": "https://localhost:8080/",
          "height": 35
        },
        "id": "xuWQ6YcnOe5g",
        "outputId": "d9ef8334-1385-4ab7-a1a7-2a17810882eb"
      },
      "execution_count": 172,
      "outputs": [
        {
          "output_type": "execute_result",
          "data": {
            "text/plain": [
              "'2.8.0+cu126'"
            ],
            "application/vnd.google.colaboratory.intrinsic+json": {
              "type": "string"
            }
          },
          "metadata": {},
          "execution_count": 172
        }
      ]
    },
    {
      "cell_type": "code",
      "source": [
        "#This will check if running cuda or cpu.\n",
        "device = \"cuda\" if torch.cuda.is_available() else \"cpu\"\n",
        "print(f\"Using device: {device}\")\n",
        "#Check the device being used. I dont have cuda set up so it would be cpu"
      ],
      "metadata": {
        "colab": {
          "base_uri": "https://localhost:8080/"
        },
        "id": "02XrFOwRPb-C",
        "outputId": "fd8b4228-e118-441f-b3bd-be37f2a65fca"
      },
      "execution_count": 173,
      "outputs": [
        {
          "output_type": "stream",
          "name": "stdout",
          "text": [
            "Using device: cpu\n"
          ]
        }
      ]
    },
    {
      "cell_type": "code",
      "source": [
        "# Create weight and bias\n",
        "weight = 0.7\n",
        "bias = 0.3\n",
        "\n",
        "# Create range values\n",
        "start = 0\n",
        "end = 1\n",
        "step = 0.02\n",
        "\n",
        "# Create X and y (features and labels)\n",
        "X = torch.arange(start, end, step).unsqueeze(dim=1) # we need to unsqueeze to prevent shape erros later\n",
        "y = weight * X + bias\n",
        "X[:10], y[:10] #shows the 0-9 in array"
      ],
      "metadata": {
        "colab": {
          "base_uri": "https://localhost:8080/"
        },
        "id": "AK1LwDYsP7Xb",
        "outputId": "fc8c54fb-3d3d-454f-e6d9-465f9cee6d53"
      },
      "execution_count": 174,
      "outputs": [
        {
          "output_type": "execute_result",
          "data": {
            "text/plain": [
              "(tensor([[0.0000],\n",
              "         [0.0200],\n",
              "         [0.0400],\n",
              "         [0.0600],\n",
              "         [0.0800],\n",
              "         [0.1000],\n",
              "         [0.1200],\n",
              "         [0.1400],\n",
              "         [0.1600],\n",
              "         [0.1800]]),\n",
              " tensor([[0.3000],\n",
              "         [0.3140],\n",
              "         [0.3280],\n",
              "         [0.3420],\n",
              "         [0.3560],\n",
              "         [0.3700],\n",
              "         [0.3840],\n",
              "         [0.3980],\n",
              "         [0.4120],\n",
              "         [0.4260]]))"
            ]
          },
          "metadata": {},
          "execution_count": 174
        }
      ]
    },
    {
      "cell_type": "code",
      "source": [
        "#At this point we split the data between testsing and training data. 80/20 is the typical split\n",
        "#1. Split the data\n",
        "train_split = int(0.8 * len(X))\n",
        "X_train, y_train = X[:train_split], y[:train_split] #from 0 to train_split, 80% of the list\n",
        "X_test, y_test = X[train_split:], y[train_split:] #the rest of the value not used in the training split\n",
        "len(X_train), len(y_train), len(X_test), len(y_test) #Shows how much data is in each"
      ],
      "metadata": {
        "colab": {
          "base_uri": "https://localhost:8080/"
        },
        "id": "x1yZFqMTQaCU",
        "outputId": "6866ba45-03a3-45c9-8be0-5c46e09bcbd3"
      },
      "execution_count": 175,
      "outputs": [
        {
          "output_type": "execute_result",
          "data": {
            "text/plain": [
              "(40, 40, 10, 10)"
            ]
          },
          "metadata": {},
          "execution_count": 175
        }
      ]
    },
    {
      "cell_type": "code",
      "source": [
        "plot_predictions(X_train, y_train, X_test, y_test)"
      ],
      "metadata": {
        "colab": {
          "base_uri": "https://localhost:8080/",
          "height": 599
        },
        "id": "7S1dbuCwRcV0",
        "outputId": "2a89a399-0fe1-4a34-8afc-fc77c1fbec0c"
      },
      "execution_count": 176,
      "outputs": [
        {
          "output_type": "display_data",
          "data": {
            "text/plain": [
              "<Figure size 1000x700 with 1 Axes>"
            ],
            "image/png": "[encoded data removed]"
          },
          "metadata": {}
        }
      ]
    },
    {
      "cell_type": "code",
      "source": [
        "# Subclass nn.Module to make our model\n",
        "class LinearRegressionModelV2(nn.Module): #2nd one\n",
        "    def __init__(self):\n",
        "        super().__init__()\n",
        "        # Use nn.Linear() for creating the model parameters\n",
        "        self.linear_layer = nn.Linear(in_features=1,\n",
        "                                      out_features=1)\n",
        "\n",
        "    # Define the forward computation (input data x flows through nn.Linear())\n",
        "    def forward(self, x: torch.Tensor) -> torch.Tensor:\n",
        "        return self.linear_layer(x)\n",
        "\n",
        "# Set the manual seed when creating the model (this isn't always needed but is used for demonstrative purposes, try commenting it out and seeing what happens)\n",
        "torch.manual_seed(27) #i just put my age\n",
        "model_1 = LinearRegressionModelV2()\n",
        "model_1, model_1.state_dict()"
      ],
      "metadata": {
        "colab": {
          "base_uri": "https://localhost:8080/"
        },
        "id": "e45Tx4s8SfcN",
        "outputId": "2d7437e4-9f5e-417d-d708-84bec281ebaf"
      },
      "execution_count": 177,
      "outputs": [
        {
          "output_type": "execute_result",
          "data": {
            "text/plain": [
              "(LinearRegressionModelV2(\n",
              "   (linear_layer): Linear(in_features=1, out_features=1, bias=True)\n",
              " ),\n",
              " OrderedDict([('linear_layer.weight', tensor([[0.9694]])),\n",
              "              ('linear_layer.bias', tensor([-0.8296]))]))"
            ]
          },
          "metadata": {},
          "execution_count": 177
        }
      ]
    },
    {
      "cell_type": "code",
      "source": [
        "# Set model to GPU if it's available, otherwise it'll default to CPU\n",
        "model_1.to(device) # the device variable was set above to be \"cuda\" if available or \"cpu\" if not\n",
        "next(model_1.parameters()).device\n",
        "#Would still be the cpu"
      ],
      "metadata": {
        "colab": {
          "base_uri": "https://localhost:8080/"
        },
        "id": "dY_txg94TC7_",
        "outputId": "6ed330aa-fee2-4c91-ed6f-2d075d5ac53a"
      },
      "execution_count": 178,
      "outputs": [
        {
          "output_type": "execute_result",
          "data": {
            "text/plain": [
              "device(type='cpu')"
            ]
          },
          "metadata": {},
          "execution_count": 178
        }
      ]
    },
    {
      "cell_type": "code",
      "source": [
        "#Time for training\n",
        "\n",
        "# Create loss function\n",
        "loss_fn = nn.L1Loss()#default function\n",
        "\n",
        "# Create optimizer\n",
        "optimizer = torch.optim.SGD(params=model_1.parameters(), # optimize the newly created model's parameters for the SGD function\n",
        "                            lr=0.01)"
      ],
      "metadata": {
        "id": "qCd_OdniTSXb"
      },
      "execution_count": 179,
      "outputs": []
    },
    {
      "cell_type": "code",
      "source": [
        "torch.manual_seed(27) #Same as above\n",
        "\n",
        "# Set the number of epochs\n",
        "epochs = 1000\n",
        "\n",
        "# Put data on the available device\n",
        "# Without this, error will happen (not all model/data on device)\n",
        "X_train = X_train.to(device)\n",
        "X_test = X_test.to(device)\n",
        "y_train = y_train.to(device)\n",
        "y_test = y_test.to(device)\n",
        "\n",
        "for epoch in range(epochs):\n",
        "    ### Training\n",
        "    model_1.train() # train mode is on by default after construction\n",
        "\n",
        "    # 1. Forward pass\n",
        "    y_pred = model_1(X_train)\n",
        "\n",
        "    # 2. Calculate loss\n",
        "    loss = loss_fn(y_pred, y_train)\n",
        "\n",
        "    # 3. Zero grad optimizer\n",
        "    optimizer.zero_grad()\n",
        "\n",
        "    # 4. Loss backward\n",
        "    loss.backward()\n",
        "\n",
        "    # 5. Step the optimizer\n",
        "    optimizer.step()\n",
        "\n",
        "    ### Testing\n",
        "    model_1.eval() # put the model in evaluation mode for testing (inference) to move faster\n",
        "    # 1. Forward pass\n",
        "    with torch.inference_mode():\n",
        "        test_pred = model_1(X_test)\n",
        "\n",
        "        # 2. Calculate the loss\n",
        "        test_loss = loss_fn(test_pred, y_test)\n",
        "\n",
        "    if epoch % 100 == 0:\n",
        "        print(f\"Epoch: {epoch} | Train loss: {loss} | Test loss: {test_loss}\")"
      ],
      "metadata": {
        "colab": {
          "base_uri": "https://localhost:8080/"
        },
        "id": "nzzV92H5UQtg",
        "outputId": "68ae814f-bb54-4e74-83cf-17e41e9984f3"
      },
      "execution_count": 180,
      "outputs": [
        {
          "output_type": "stream",
          "name": "stdout",
          "text": [
            "Epoch: 0 | Train loss: 1.0245774984359741 | Test loss: 0.8764252662658691\n",
            "Epoch: 100 | Train loss: 0.11911282688379288 | Test loss: 0.22775426506996155\n",
            "Epoch: 200 | Train loss: 0.08144184947013855 | Test loss: 0.18939371407032013\n",
            "Epoch: 300 | Train loss: 0.04710521548986435 | Test loss: 0.10941821336746216\n",
            "Epoch: 400 | Train loss: 0.012755629606544971 | Test loss: 0.028753887861967087\n",
            "Epoch: 500 | Train loss: 0.002829640405252576 | Test loss: 0.012949949130415916\n",
            "Epoch: 600 | Train loss: 0.002829640405252576 | Test loss: 0.012949949130415916\n",
            "Epoch: 700 | Train loss: 0.002829640405252576 | Test loss: 0.012949949130415916\n",
            "Epoch: 800 | Train loss: 0.002829640405252576 | Test loss: 0.012949949130415916\n",
            "Epoch: 900 | Train loss: 0.002829640405252576 | Test loss: 0.012949949130415916\n"
          ]
        }
      ]
    },
    {
      "cell_type": "code",
      "source": [
        "# Find our model's learned parameters\n",
        "from pprint import pprint # pprint = pretty print, first time seeing pretty print\n",
        "print(\"The model learned the following values for weights and bias:\")\n",
        "print(model_1.state_dict())\n",
        "print(\"\\nAnd the original values for weights and bias are:\")\n",
        "print(f\"weights: {weight}, bias: {bias}\")"
      ],
      "metadata": {
        "colab": {
          "base_uri": "https://localhost:8080/"
        },
        "id": "vCofH1WLUe4z",
        "outputId": "f627e610-fca1-4d68-98ed-427ea909a945"
      },
      "execution_count": 181,
      "outputs": [
        {
          "output_type": "stream",
          "name": "stdout",
          "text": [
            "The model learned the following values for weights and bias:\n",
            "OrderedDict({'linear_layer.weight': tensor([[0.7046]]), 'linear_layer.bias': tensor([0.2954])})\n",
            "\n",
            "And the original values for weights and bias are:\n",
            "weights: 0.7, bias: 0.3\n"
          ]
        }
      ]
    },
    {
      "cell_type": "code",
      "source": [
        "# Shift to evaluation mode\n",
        "model_1.eval()\n",
        "\n",
        "# Make predictions on the test data\n",
        "with torch.inference_mode():\n",
        "    y_preds = model_1(X_test)\n",
        "y_preds"
      ],
      "metadata": {
        "colab": {
          "base_uri": "https://localhost:8080/"
        },
        "id": "WjonCcjaU9rC",
        "outputId": "5ec404f9-eefd-464e-abae-98cc4746532a"
      },
      "execution_count": 182,
      "outputs": [
        {
          "output_type": "execute_result",
          "data": {
            "text/plain": [
              "tensor([[0.8591],\n",
              "        [0.8732],\n",
              "        [0.8872],\n",
              "        [0.9013],\n",
              "        [0.9154],\n",
              "        [0.9295],\n",
              "        [0.9436],\n",
              "        [0.9577],\n",
              "        [0.9718],\n",
              "        [0.9859]])"
            ]
          },
          "metadata": {},
          "execution_count": 182
        }
      ]
    },
    {
      "cell_type": "code",
      "source": [
        "# Put data on the CPU and plot it\n",
        "plot_predictions(predictions=y_preds)\n",
        "#if on cuda use 'plot_predictions(predictions=y_preds.cpu())'"
      ],
      "metadata": {
        "colab": {
          "base_uri": "https://localhost:8080/",
          "height": 599
        },
        "id": "WUvCEDxGVO5X",
        "outputId": "8a627742-e547-43f1-fbbb-a2f3aca2852e"
      },
      "execution_count": 183,
      "outputs": [
        {
          "output_type": "display_data",
          "data": {
            "text/plain": [
              "<Figure size 1000x700 with 1 Axes>"
            ],
            "image/png": "[encoded data removed]"
          },
          "metadata": {}
        }
      ]
    },
    {
      "cell_type": "code",
      "source": [
        "from pathlib import Path\n",
        "\n",
        "# 1. Create models directory\n",
        "MODEL_PATH = Path(\"models\")\n",
        "MODEL_PATH.mkdir(parents=True, exist_ok=True)\n",
        "\n",
        "# 2. Create model save path\n",
        "MODEL_NAME = \"01_pytorch_workflow_model_1.pth\"\n",
        "MODEL_SAVE_PATH = MODEL_PATH / MODEL_NAME\n",
        "\n",
        "# 3. Save the model state dict\n",
        "print(f\"Saving model to: {MODEL_SAVE_PATH}\")\n",
        "torch.save(obj=model_1.state_dict(), # only saving the state_dict() only saves the models learned parameters\n",
        "           f=MODEL_SAVE_PATH)"
      ],
      "metadata": {
        "colab": {
          "base_uri": "https://localhost:8080/"
        },
        "id": "0RxZlN0FVY71",
        "outputId": "aaebe5e7-5ad3-4371-e694-470c5441021a"
      },
      "execution_count": 184,
      "outputs": [
        {
          "output_type": "stream",
          "name": "stdout",
          "text": [
            "Saving model to: models/01_pytorch_workflow_model_1.pth\n"
          ]
        }
      ]
    },
    {
      "cell_type": "code",
      "source": [
        "# Instantiate a fresh instance of LinearRegressionModelV2\n",
        "loaded_model_1 = LinearRegressionModelV2()\n",
        "\n",
        "# Load model state dict\n",
        "loaded_model_1.load_state_dict(torch.load(MODEL_SAVE_PATH))\n",
        "\n",
        "# Put model to target device (if your data is on GPU, model will have to be on GPU to make predictions)\n",
        "loaded_model_1.to(device)\n",
        "\n",
        "print(f\"Loaded model:\\n{loaded_model_1}\")\n",
        "print(f\"Model on device:\\n{next(loaded_model_1.parameters()).device}\")"
      ],
      "metadata": {
        "colab": {
          "base_uri": "https://localhost:8080/"
        },
        "id": "7PTGw_K3VeTR",
        "outputId": "2812eee7-07c1-4361-cd0a-e0d1d54b7ed5"
      },
      "execution_count": 185,
      "outputs": [
        {
          "output_type": "stream",
          "name": "stdout",
          "text": [
            "Loaded model:\n",
            "LinearRegressionModelV2(\n",
            "  (linear_layer): Linear(in_features=1, out_features=1, bias=True)\n",
            ")\n",
            "Model on device:\n",
            "cpu\n"
          ]
        }
      ]
    },
    {
      "cell_type": "code",
      "source": [
        "# Evaluate loaded model / See if it is saved properly\n",
        "loaded_model_1.eval()\n",
        "with torch.inference_mode():\n",
        "    loaded_model_1_preds = loaded_model_1(X_test)\n",
        "y_preds == loaded_model_1_preds"
      ],
      "metadata": {
        "colab": {
          "base_uri": "https://localhost:8080/"
        },
        "id": "7Z8KgQJbVgtR",
        "outputId": "42d34d83-2c93-4d0d-c726-443f17ba6bde"
      },
      "execution_count": 186,
      "outputs": [
        {
          "output_type": "execute_result",
          "data": {
            "text/plain": [
              "tensor([[True],\n",
              "        [True],\n",
              "        [True],\n",
              "        [True],\n",
              "        [True],\n",
              "        [True],\n",
              "        [True],\n",
              "        [True],\n",
              "        [True],\n",
              "        [True]])"
            ]
          },
          "metadata": {},
          "execution_count": 186
        }
      ]
    },
    {
      "cell_type": "markdown",
      "source": [
        "# More Practice"
      ],
      "metadata": {
        "id": "i_DfeDiYVo9m"
      }
    },
    {
      "cell_type": "code",
      "source": [
        "#Import PyTorch and matplotlib\n",
        "import torch\n",
        "from torch import nn\n",
        "import matplotlib.pyplot as plt\n",
        "\n",
        "#Check current version of PyTorch\n",
        "torch.__version__\n",
        "#current version: '2.8.0+cu126'"
      ],
      "metadata": {
        "colab": {
          "base_uri": "https://localhost:8080/",
          "height": 35
        },
        "id": "lBVr_0kuXydt",
        "outputId": "7248109f-2431-49f8-9ce2-1bc1091650da"
      },
      "execution_count": 187,
      "outputs": [
        {
          "output_type": "execute_result",
          "data": {
            "text/plain": [
              "'2.8.0+cu126'"
            ],
            "application/vnd.google.colaboratory.intrinsic+json": {
              "type": "string"
            }
          },
          "metadata": {},
          "execution_count": 187
        }
      ]
    },
    {
      "cell_type": "code",
      "source": [
        "# Create weight and bias\n",
        "weight = 0.3\n",
        "bias = 0.9\n",
        "\n",
        "# Create X and y (features and labels)\n",
        "X = torch.arange(0, 1, 0.01).unsqueeze(dim=1) # we need to unsqueeze to prevent shape erros later\n",
        "y = weight * X + bias\n",
        "X[:10], y[:10] #shows the 0-9 in array\n"
      ],
      "metadata": {
        "colab": {
          "base_uri": "https://localhost:8080/"
        },
        "id": "uaszJ8IjX2hp",
        "outputId": "69d67549-141f-4c16-93f6-69c112e033d8"
      },
      "execution_count": 188,
      "outputs": [
        {
          "output_type": "execute_result",
          "data": {
            "text/plain": [
              "(tensor([[0.0000],\n",
              "         [0.0100],\n",
              "         [0.0200],\n",
              "         [0.0300],\n",
              "         [0.0400],\n",
              "         [0.0500],\n",
              "         [0.0600],\n",
              "         [0.0700],\n",
              "         [0.0800],\n",
              "         [0.0900]]),\n",
              " tensor([[0.9000],\n",
              "         [0.9030],\n",
              "         [0.9060],\n",
              "         [0.9090],\n",
              "         [0.9120],\n",
              "         [0.9150],\n",
              "         [0.9180],\n",
              "         [0.9210],\n",
              "         [0.9240],\n",
              "         [0.9270]]))"
            ]
          },
          "metadata": {},
          "execution_count": 188
        }
      ]
    },
    {
      "cell_type": "markdown",
      "source": [],
      "metadata": {
        "id": "n0rFodCyVsRl"
      }
    },
    {
      "cell_type": "code",
      "source": [
        "#At this point we split the data between testsing and training data. 80/20 is the typical split\n",
        "#1. Split the data\n",
        "train_split = int(0.8 * len(X))\n",
        "X_train = X[:train_split]\n",
        "y_train = y[:train_split] #from 0 to train_split, 80% of the list\n",
        "X_test = X[train_split:]\n",
        "y_test= y[train_split:] #the rest of the value not used in the training split\n",
        "len(X_train), len(y_train), len(X_test), len(y_test) #Shows how much data is in each"
      ],
      "metadata": {
        "colab": {
          "base_uri": "https://localhost:8080/"
        },
        "id": "q90wBzKqX8_V",
        "outputId": "ef3410a0-9222-4f90-e00a-5e955d3a5a81"
      },
      "execution_count": 189,
      "outputs": [
        {
          "output_type": "execute_result",
          "data": {
            "text/plain": [
              "(80, 80, 20, 20)"
            ]
          },
          "metadata": {},
          "execution_count": 189
        }
      ]
    },
    {
      "cell_type": "code",
      "source": [
        "def plot_predictions(train_data = X_train,\n",
        "                 train_labels = y_train,\n",
        "                 test_data = X_test,\n",
        "                 test_labels = y_test,\n",
        "                 predictions = None):\n",
        "\n",
        "  plt.figure(figsize = (10,8))\n",
        "  plt.scatter(train_data,train_labels,c = 'b',s = 4,label = \"Training data\")\n",
        "  plt.scatter(test_data,test_labels,c = 'g',s = 4,label = \"Test data\")\n",
        "\n",
        "  if predictions is not None:\n",
        "    plt.scatter(test_data,predictions,c = 'r',s = 4,label = \"Predictions\")\n",
        "  plt.legend(prop = {\"size\" : 20})\n",
        "plot_predictions()"
      ],
      "metadata": {
        "colab": {
          "base_uri": "https://localhost:8080/",
          "height": 676
        },
        "id": "nlpcGDiba-DG",
        "outputId": "a3408ed7-9f8a-4d3d-a83c-d743307bdb20"
      },
      "execution_count": 190,
      "outputs": [
        {
          "output_type": "display_data",
          "data": {
            "text/plain": [
              "<Figure size 1000x800 with 1 Axes>"
            ],
            "image/png": "[encoded data removed]"
          },
          "metadata": {}
        }
      ]
    },
    {
      "cell_type": "code",
      "source": [
        "import torch\n",
        "from torch import nn\n",
        "\n",
        "class LinearRegressionModel(nn.Module):\n",
        "  def __init__(self):\n",
        "    super().__init__()\n",
        "    self.weights = nn.Parameter(torch.randn(1,\n",
        "                                          requires_grad=True,\n",
        "                                          dtype=torch.float\n",
        "                                          ))\n",
        "    self.bias = nn.Parameter(torch.randn(1,\n",
        "                                       requires_grad=True,\n",
        "                                       dtype=torch.float\n",
        "                                       ))\n",
        "\n",
        "  def forward(self, x: torch.Tensor) -> torch.Tensor:\n",
        "        return self.weights * x + self.bias"
      ],
      "metadata": {
        "id": "2X20vlGMcPnM"
      },
      "execution_count": 191,
      "outputs": []
    },
    {
      "cell_type": "code",
      "source": [
        "import torch\n",
        "\n",
        "torch.manual_seed(42)\n",
        "\n",
        "model_2 = LinearRegressionModel()\n",
        "model_2, model_2.state_dict()"
      ],
      "metadata": {
        "colab": {
          "base_uri": "https://localhost:8080/"
        },
        "id": "4zK3j-sUcXJ7",
        "outputId": "7fcc1a9f-04a3-4754-8e80-829132bdc9c5"
      },
      "execution_count": 192,
      "outputs": [
        {
          "output_type": "execute_result",
          "data": {
            "text/plain": [
              "(LinearRegressionModel(),\n",
              " OrderedDict([('weights', tensor([0.3367])), ('bias', tensor([0.1288]))]))"
            ]
          },
          "metadata": {},
          "execution_count": 192
        }
      ]
    },
    {
      "cell_type": "code",
      "source": [
        "model_2.to(device)\n",
        "list(model_2.parameters())"
      ],
      "metadata": {
        "colab": {
          "base_uri": "https://localhost:8080/"
        },
        "id": "aOjaYorncqBe",
        "outputId": "3af0ffdd-8778-4d64-8416-dd6b30cb0489"
      },
      "execution_count": 193,
      "outputs": [
        {
          "output_type": "execute_result",
          "data": {
            "text/plain": [
              "[Parameter containing:\n",
              " tensor([0.3367], requires_grad=True),\n",
              " Parameter containing:\n",
              " tensor([0.1288], requires_grad=True)]"
            ]
          },
          "metadata": {},
          "execution_count": 193
        }
      ]
    },
    {
      "cell_type": "code",
      "source": [
        "loss_fn = nn.L1Loss()\n",
        "optimizer = torch.optim.SGD(params = model_2.parameters(),\n",
        "                            lr = 0.01)"
      ],
      "metadata": {
        "id": "nemhYX7acxZX"
      },
      "execution_count": 194,
      "outputs": []
    },
    {
      "cell_type": "code",
      "source": [
        "torch.manual_seed(42)\n",
        "\n",
        "epochs = 200\n",
        "\n",
        "\n",
        "X_train = X_train.to(device)\n",
        "X_test = X_test.to(device)\n",
        "y_train = y_train.to(device)\n",
        "y_test = y_test.to(device)\n",
        "\n",
        "for epoch in range(epochs):\n",
        "  model_2.train()\n",
        "  y_pred = model_2(X_train)\n",
        "  loss = loss_fn(y_pred,y_train)\n",
        "  optimizer.zero_grad()\n",
        "  loss.backward()\n",
        "\n",
        "  optimizer.step()\n",
        "  if epoch % 20 == 0:\n",
        "    model_2.eval()\n",
        "    with torch.inference_mode():\n",
        "      y_preds = model_2(X_test)\n",
        "      test_loss = loss_fn(y_preds,y_test)\n",
        "      print(f\"Epoch: {epoch} | Train loss: {loss:.3f} | Test loss: {test_loss:.3f}\")"
      ],
      "metadata": {
        "colab": {
          "base_uri": "https://localhost:8080/"
        },
        "id": "a8lfc9ygc11_",
        "outputId": "e0d65068-b6eb-4772-d0c0-50f3539ded5d"
      },
      "execution_count": 203,
      "outputs": [
        {
          "output_type": "stream",
          "name": "stdout",
          "text": [
            "Epoch: 0 | Train loss: 0.011 | Test loss: 0.026\n",
            "Epoch: 20 | Train loss: 0.004 | Test loss: 0.009\n",
            "Epoch: 40 | Train loss: 0.004 | Test loss: 0.006\n",
            "Epoch: 60 | Train loss: 0.004 | Test loss: 0.006\n",
            "Epoch: 80 | Train loss: 0.004 | Test loss: 0.006\n",
            "Epoch: 100 | Train loss: 0.004 | Test loss: 0.006\n",
            "Epoch: 120 | Train loss: 0.004 | Test loss: 0.006\n",
            "Epoch: 140 | Train loss: 0.004 | Test loss: 0.006\n",
            "Epoch: 160 | Train loss: 0.004 | Test loss: 0.006\n",
            "Epoch: 180 | Train loss: 0.004 | Test loss: 0.006\n"
          ]
        }
      ]
    },
    {
      "cell_type": "code",
      "source": [
        "model_2.eval()\n",
        "\n",
        "with torch.inference_mode():\n",
        "  y_preds = model_2(X_test)\n",
        "y_preds"
      ],
      "metadata": {
        "colab": {
          "base_uri": "https://localhost:8080/"
        },
        "id": "mlSeX31ydhgj",
        "outputId": "5855cf78-c136-4c15-95bc-a78a2cc22f11"
      },
      "execution_count": 196,
      "outputs": [
        {
          "output_type": "execute_result",
          "data": {
            "text/plain": [
              "tensor([[1.1612],\n",
              "        [1.1648],\n",
              "        [1.1683],\n",
              "        [1.1719],\n",
              "        [1.1755],\n",
              "        [1.1790],\n",
              "        [1.1826],\n",
              "        [1.1862],\n",
              "        [1.1897],\n",
              "        [1.1933],\n",
              "        [1.1968],\n",
              "        [1.2004],\n",
              "        [1.2040],\n",
              "        [1.2075],\n",
              "        [1.2111],\n",
              "        [1.2146],\n",
              "        [1.2182],\n",
              "        [1.2218],\n",
              "        [1.2253],\n",
              "        [1.2289]])"
            ]
          },
          "metadata": {},
          "execution_count": 196
        }
      ]
    },
    {
      "cell_type": "code",
      "source": [
        "y_preds.cpu()"
      ],
      "metadata": {
        "colab": {
          "base_uri": "https://localhost:8080/"
        },
        "id": "fQPQxWLvdkpy",
        "outputId": "645ff095-9505-45df-9470-65730efcef4c"
      },
      "execution_count": 197,
      "outputs": [
        {
          "output_type": "execute_result",
          "data": {
            "text/plain": [
              "tensor([[1.1612],\n",
              "        [1.1648],\n",
              "        [1.1683],\n",
              "        [1.1719],\n",
              "        [1.1755],\n",
              "        [1.1790],\n",
              "        [1.1826],\n",
              "        [1.1862],\n",
              "        [1.1897],\n",
              "        [1.1933],\n",
              "        [1.1968],\n",
              "        [1.2004],\n",
              "        [1.2040],\n",
              "        [1.2075],\n",
              "        [1.2111],\n",
              "        [1.2146],\n",
              "        [1.2182],\n",
              "        [1.2218],\n",
              "        [1.2253],\n",
              "        [1.2289]])"
            ]
          },
          "metadata": {},
          "execution_count": 197
        }
      ]
    },
    {
      "cell_type": "code",
      "source": [
        "plot_predictions(predictions = y_preds.cpu())"
      ],
      "metadata": {
        "colab": {
          "base_uri": "https://localhost:8080/",
          "height": 676
        },
        "id": "YdKR_H11dnUC",
        "outputId": "c4a67508-6bd7-436b-9dca-6161713979f6"
      },
      "execution_count": 204,
      "outputs": [
        {
          "output_type": "display_data",
          "data": {
            "text/plain": [
              "<Figure size 1000x800 with 1 Axes>"
            ],
            "image/png": "[encoded data removed]"
          },
          "metadata": {}
        }
      ]
    },
    {
      "cell_type": "code",
      "source": [
        "MODEL_PATH = Path(\"models\")\n",
        "MODEL_PATH.mkdir(parents = True,exist_ok = True)\n",
        "# 2. Create model save path\n",
        "MODEL_NAME = \"01_pytorch_model\"\n",
        "MODEL_SAVE_PATH = MODEL_PATH / MODEL_NAME\n",
        "# 3. Save the model state dict\n",
        "print(f\"Saving model to {MODEL_SAVE_PATH}\")\n",
        "torch.save(obj = model_2.state_dict(),f = MODEL_SAVE_PATH)"
      ],
      "metadata": {
        "colab": {
          "base_uri": "https://localhost:8080/"
        },
        "id": "1UX9hrBijy1a",
        "outputId": "7abe42ac-cf8f-47c9-b1b8-b4eb60b7b57a"
      },
      "execution_count": 199,
      "outputs": [
        {
          "output_type": "stream",
          "name": "stdout",
          "text": [
            "Saving model to models/01_pytorch_model\n"
          ]
        }
      ]
    },
    {
      "cell_type": "code",
      "source": [
        "loaded_model = LinearRegressionModel()\n",
        "loaded_model.load_state_dict(torch.load(f = MODEL_SAVE_PATH))\n",
        "loaded_model.to(device)"
      ],
      "metadata": {
        "colab": {
          "base_uri": "https://localhost:8080/"
        },
        "id": "6mfA2XQ7j1-4",
        "outputId": "409ec905-82bd-448b-f3e9-81e9d6904913"
      },
      "execution_count": 200,
      "outputs": [
        {
          "output_type": "execute_result",
          "data": {
            "text/plain": [
              "LinearRegressionModel()"
            ]
          },
          "metadata": {},
          "execution_count": 200
        }
      ]
    },
    {
      "cell_type": "code",
      "source": [
        "y_preds_new = loaded_model(X_test)\n",
        "y_preds == y_preds_new"
      ],
      "metadata": {
        "colab": {
          "base_uri": "https://localhost:8080/"
        },
        "id": "_xIOmxRAj7Cp",
        "outputId": "c7f6bd5c-8b78-46f0-b329-6e9f74593203"
      },
      "execution_count": 201,
      "outputs": [
        {
          "output_type": "execute_result",
          "data": {
            "text/plain": [
              "tensor([[True],\n",
              "        [True],\n",
              "        [True],\n",
              "        [True],\n",
              "        [True],\n",
              "        [True],\n",
              "        [True],\n",
              "        [True],\n",
              "        [True],\n",
              "        [True],\n",
              "        [True],\n",
              "        [True],\n",
              "        [True],\n",
              "        [True],\n",
              "        [True],\n",
              "        [True],\n",
              "        [True],\n",
              "        [True],\n",
              "        [True],\n",
              "        [True]])"
            ]
          },
          "metadata": {},
          "execution_count": 201
        }
      ]
    },
    {
      "cell_type": "code",
      "source": [
        "loaded_model.state_dict()"
      ],
      "metadata": {
        "colab": {
          "base_uri": "https://localhost:8080/"
        },
        "id": "UNSLRI3jkDnz",
        "outputId": "89b2c409-14a2-4b6d-de29-2b749b95ea8e"
      },
      "execution_count": 202,
      "outputs": [
        {
          "output_type": "execute_result",
          "data": {
            "text/plain": [
              "OrderedDict([('weights', tensor([0.3561])), ('bias', tensor([0.8763]))])"
            ]
          },
          "metadata": {},
          "execution_count": 202
        }
      ]
    }
  ]
}